{
 "cells": [
  {
   "cell_type": "markdown",
   "id": "d3bfc191-8885-42ee-b0a0-bbab867c6f9f",
   "metadata": {
    "tags": []
   },
   "source": [
    "# Lab | Flow Control"
   ]
  },
  {
   "cell_type": "markdown",
   "id": "3851fcd1-cf98-4653-9c89-e003b7ec9400",
   "metadata": {},
   "source": [
    "## Exercise: Managing Customer Orders Optimized\n",
    "\n",
    "In the last lab, you were starting an online store that sells various products. To ensure smooth operations, you developed a program that manages customer orders and inventory.\n",
    "\n",
    "You did so without using flow control. Let's go a step further and improve this code.\n",
    "\n",
    "Follow the steps below to complete the exercise:\n",
    "\n",
    "1. Look at your code from the lab data structures, and improve repeated code with loops.\n",
    "\n",
    "2. Instead of asking the user to input the name of three products that a customer wants to order, do the following:\n",
    "    \n",
    "    a. Prompt the user to enter the name of a product that a customer wants to order.\n",
    "    \n",
    "    b. Add the product name to the \"customer_orders\" set.\n",
    "    \n",
    "    c. Ask the user if they want to add another product (yes/no).\n",
    "    \n",
    "    d. Continue the loop until the user does not want to add another product.\n",
    "\n",
    "3. Instead of updating the inventory by subtracting 1 from the quantity of each product, only do it for  the products that were ordered (those in \"customer_orders\")."
   ]
  },
  {
   "cell_type": "code",
   "execution_count": 1,
   "id": "b317059c",
   "metadata": {},
   "outputs": [],
   "source": [
    "products=['tee-shirt', 'mug', 'hat', 'book', 'keychain']\n",
    "inventory={}"
   ]
  },
  {
   "cell_type": "code",
   "execution_count": 2,
   "id": "33f5f7f4",
   "metadata": {},
   "outputs": [
    {
     "name": "stdout",
     "output_type": "stream",
     "text": [
      "{'tee-shirt': 1, 'mug': 2, 'hat': 3, 'book': 4, 'keychain': 5}\n"
     ]
    }
   ],
   "source": [
    "quantity=[]\n",
    "for i in range(len(products)):\n",
    "    inventory[products[i]]=int(input('How many ' + products[i] + ' do you have? '))\n",
    "print(inventory)"
   ]
  },
  {
   "cell_type": "code",
   "execution_count": 3,
   "id": "e7e90aac",
   "metadata": {},
   "outputs": [
    {
     "name": "stdout",
     "output_type": "stream",
     "text": [
      "{'mug', 'hat'}\n"
     ]
    }
   ],
   "source": [
    "customers_orders = set()\n",
    "wish = 'yes'\n",
    "while wish == 'yes':\n",
    "    product = input('Select a product from the following list : tee-shirt, mug, hat, book, keychain')\n",
    "    customers_orders.add(product)\n",
    "    wish = input('Do you want to add another product? Yes or no')\n",
    "print(customers_orders)"
   ]
  },
  {
   "cell_type": "code",
   "execution_count": 4,
   "id": "92eeab7f",
   "metadata": {},
   "outputs": [],
   "source": [
    "total_products_ordered = len(customers_orders)\n",
    "percentage_products_ordered = (len(customers_orders)/len(products))*100"
   ]
  },
  {
   "cell_type": "code",
   "execution_count": 5,
   "id": "59a861bd",
   "metadata": {},
   "outputs": [
    {
     "data": {
      "text/plain": [
       "(2, 40.0)"
      ]
     },
     "execution_count": 5,
     "metadata": {},
     "output_type": "execute_result"
    }
   ],
   "source": [
    "order_status = (total_products_ordered, percentage_products_ordered)\n",
    "order_status"
   ]
  },
  {
   "cell_type": "code",
   "execution_count": 6,
   "id": "5d209724",
   "metadata": {},
   "outputs": [
    {
     "name": "stdout",
     "output_type": "stream",
     "text": [
      "Order Statistics:\n",
      "Total Products Ordered:\n",
      "2\n",
      "Percentage of Products Ordered:\n",
      "40.0 %\n"
     ]
    }
   ],
   "source": [
    "print('Order Statistics:')\n",
    "print('Total Products Ordered:')\n",
    "print(total_products_ordered)\n",
    "print('Percentage of Products Ordered:')\n",
    "print(percentage_products_ordered,'%')"
   ]
  },
  {
   "cell_type": "code",
   "execution_count": 33,
   "id": "9c09c067",
   "metadata": {},
   "outputs": [
    {
     "data": {
      "text/plain": [
       "{'tee-shirt': 1, 'mug': 1, 'hat': 2, 'book': 4, 'keychain': 5}"
      ]
     },
     "execution_count": 33,
     "metadata": {},
     "output_type": "execute_result"
    }
   ],
   "source": [
    "for i in range(len(products)):\n",
    "    a = products[i] in customers_orders\n",
    "    if a == True:\n",
    "        inventory[products[i]] -= 1\n",
    "inventory"
   ]
  },
  {
   "cell_type": "code",
   "execution_count": 8,
   "id": "bb7365e1",
   "metadata": {},
   "outputs": [
    {
     "name": "stdout",
     "output_type": "stream",
     "text": [
      "You have 1 tee-shirt in stock\n",
      "You have 2 mug in stock\n",
      "You have 3 hat in stock\n",
      "You have 4 book in stock\n",
      "You have 5 keychain in stock\n"
     ]
    }
   ],
   "source": [
    "a=list(inventory.keys())\n",
    "b=list(inventory.values())\n",
    "for i in range(len(a)):\n",
    "    print(f'You have {b[i]} {a[i]} in stock')"
   ]
  }
 ],
 "metadata": {
  "kernelspec": {
   "display_name": "Python 3 (ipykernel)",
   "language": "python",
   "name": "python3"
  },
  "language_info": {
   "codemirror_mode": {
    "name": "ipython",
    "version": 3
   },
   "file_extension": ".py",
   "mimetype": "text/x-python",
   "name": "python",
   "nbconvert_exporter": "python",
   "pygments_lexer": "ipython3",
   "version": "3.10.9"
  }
 },
 "nbformat": 4,
 "nbformat_minor": 5
}
